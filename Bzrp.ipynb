{
  "nbformat": 4,
  "nbformat_minor": 0,
  "metadata": {
    "colab": {
      "provenance": [],
      "include_colab_link": true
    },
    "kernelspec": {
      "name": "python3",
      "display_name": "Python 3"
    },
    "language_info": {
      "name": "python"
    }
  },
  "cells": [
    {
      "cell_type": "markdown",
      "metadata": {
        "id": "view-in-github",
        "colab_type": "text"
      },
      "source": [
        "<a href=\"https://colab.research.google.com/github/FERPAOLONI/DATA-SCIENCE-I---CODER/blob/main/Bzrp.ipynb\" target=\"_parent\"><img src=\"https://colab.research.google.com/assets/colab-badge.svg\" alt=\"Open In Colab\"/></a>"
      ]
    },
    {
      "cell_type": "code",
      "execution_count": 2,
      "metadata": {
        "id": "YAsysKbnCNdR"
      },
      "outputs": [],
      "source": [
        "import pandas as pd"
      ]
    },
    {
      "cell_type": "code",
      "source": [
        "bzrp = pd.read_csv('https://raw.githubusercontent.com/nacho1907/Bases/refs/heads/main/bzrp.csv')"
      ],
      "metadata": {
        "id": "G8NLOeZfCSKo"
      },
      "execution_count": 3,
      "outputs": []
    },
    {
      "cell_type": "code",
      "source": [
        "bzrp.head()"
      ],
      "metadata": {
        "colab": {
          "base_uri": "https://localhost:8080/",
          "height": 643
        },
        "id": "4EwSEkUlCXVo",
        "outputId": "464446ec-a7ac-497d-d824-767e03d0de40"
      },
      "execution_count": 4,
      "outputs": [
        {
          "output_type": "execute_result",
          "data": {
            "text/plain": [
              "   Unnamed: 0                                        album  track_number  \\\n",
              "0           3         Lismar: Bzrp Music Sessions, Vol. 60             1   \n",
              "1          12  Natanael Cano: Bzrp Music Sessions, Vol. 59             1   \n",
              "2          15  Bzrp Music Sessions, Vol. 53 (Tiësto Remix)             1   \n",
              "3          16     Young Miko: Bzrp Music Sessions, Vol. 58             1   \n",
              "4          22         Milo J: Bzrp Music Sessions, Vol. 57             1   \n",
              "\n",
              "                       id                                         name  \\\n",
              "0  3lXq1YajbXv1UI1MoXW8JB         Lismar: Bzrp Music Sessions, Vol. 60   \n",
              "1  2DbV9TSdeGr5FobCFDRzvq  Natanael Cano: Bzrp Music Sessions, Vol. 59   \n",
              "2  0G6Rs6S3mU0E890Z32iBqj  Bzrp Music Sessions, Vol. 53 - Tiësto Remix   \n",
              "3  6VciS3dRMpZhJiDxT8ArFi     Young Miko: Bzrp Music Sessions, Vol. 58   \n",
              "4  1iLbUmb2b2btyAAcQ68a1p         Milo J: Bzrp Music Sessions, Vol. 57   \n",
              "\n",
              "                                    uri  acousticness  danceability  energy  \\\n",
              "0  spotify:track:3lXq1YajbXv1UI1MoXW8JB        0.3100         0.784   0.720   \n",
              "1  spotify:track:2DbV9TSdeGr5FobCFDRzvq        0.0595         0.671   0.800   \n",
              "2  spotify:track:0G6Rs6S3mU0E890Z32iBqj        0.0154         0.834   0.845   \n",
              "3  spotify:track:6VciS3dRMpZhJiDxT8ArFi        0.4940         0.566   0.614   \n",
              "4  spotify:track:1iLbUmb2b2btyAAcQ68a1p        0.5580         0.826   0.684   \n",
              "\n",
              "   instrumentalness  liveness  loudness  speechiness    tempo  valence  \\\n",
              "0          0.000000     0.298    -6.122       0.0452  135.015    0.543   \n",
              "1          0.000000     0.103    -5.576       0.0695  166.900    0.761   \n",
              "2          0.637000     0.107    -6.703       0.0636  126.031    0.451   \n",
              "3          0.000000     0.116    -6.946       0.1440   96.123    0.439   \n",
              "4          0.000069     0.169    -6.413       0.2230  123.987    0.738   \n",
              "\n",
              "   popularity  \n",
              "0          51  \n",
              "1          76  \n",
              "2          37  \n",
              "3          77  \n",
              "4          73  "
            ],
            "text/html": [
              "\n",
              "  <div id=\"df-19d27bfb-910d-474c-a57a-25154093e659\" class=\"colab-df-container\">\n",
              "    <div>\n",
              "<style scoped>\n",
              "    .dataframe tbody tr th:only-of-type {\n",
              "        vertical-align: middle;\n",
              "    }\n",
              "\n",
              "    .dataframe tbody tr th {\n",
              "        vertical-align: top;\n",
              "    }\n",
              "\n",
              "    .dataframe thead th {\n",
              "        text-align: right;\n",
              "    }\n",
              "</style>\n",
              "<table border=\"1\" class=\"dataframe\">\n",
              "  <thead>\n",
              "    <tr style=\"text-align: right;\">\n",
              "      <th></th>\n",
              "      <th>Unnamed: 0</th>\n",
              "      <th>album</th>\n",
              "      <th>track_number</th>\n",
              "      <th>id</th>\n",
              "      <th>name</th>\n",
              "      <th>uri</th>\n",
              "      <th>acousticness</th>\n",
              "      <th>danceability</th>\n",
              "      <th>energy</th>\n",
              "      <th>instrumentalness</th>\n",
              "      <th>liveness</th>\n",
              "      <th>loudness</th>\n",
              "      <th>speechiness</th>\n",
              "      <th>tempo</th>\n",
              "      <th>valence</th>\n",
              "      <th>popularity</th>\n",
              "    </tr>\n",
              "  </thead>\n",
              "  <tbody>\n",
              "    <tr>\n",
              "      <th>0</th>\n",
              "      <td>3</td>\n",
              "      <td>Lismar: Bzrp Music Sessions, Vol. 60</td>\n",
              "      <td>1</td>\n",
              "      <td>3lXq1YajbXv1UI1MoXW8JB</td>\n",
              "      <td>Lismar: Bzrp Music Sessions, Vol. 60</td>\n",
              "      <td>spotify:track:3lXq1YajbXv1UI1MoXW8JB</td>\n",
              "      <td>0.3100</td>\n",
              "      <td>0.784</td>\n",
              "      <td>0.720</td>\n",
              "      <td>0.000000</td>\n",
              "      <td>0.298</td>\n",
              "      <td>-6.122</td>\n",
              "      <td>0.0452</td>\n",
              "      <td>135.015</td>\n",
              "      <td>0.543</td>\n",
              "      <td>51</td>\n",
              "    </tr>\n",
              "    <tr>\n",
              "      <th>1</th>\n",
              "      <td>12</td>\n",
              "      <td>Natanael Cano: Bzrp Music Sessions, Vol. 59</td>\n",
              "      <td>1</td>\n",
              "      <td>2DbV9TSdeGr5FobCFDRzvq</td>\n",
              "      <td>Natanael Cano: Bzrp Music Sessions, Vol. 59</td>\n",
              "      <td>spotify:track:2DbV9TSdeGr5FobCFDRzvq</td>\n",
              "      <td>0.0595</td>\n",
              "      <td>0.671</td>\n",
              "      <td>0.800</td>\n",
              "      <td>0.000000</td>\n",
              "      <td>0.103</td>\n",
              "      <td>-5.576</td>\n",
              "      <td>0.0695</td>\n",
              "      <td>166.900</td>\n",
              "      <td>0.761</td>\n",
              "      <td>76</td>\n",
              "    </tr>\n",
              "    <tr>\n",
              "      <th>2</th>\n",
              "      <td>15</td>\n",
              "      <td>Bzrp Music Sessions, Vol. 53 (Tiësto Remix)</td>\n",
              "      <td>1</td>\n",
              "      <td>0G6Rs6S3mU0E890Z32iBqj</td>\n",
              "      <td>Bzrp Music Sessions, Vol. 53 - Tiësto Remix</td>\n",
              "      <td>spotify:track:0G6Rs6S3mU0E890Z32iBqj</td>\n",
              "      <td>0.0154</td>\n",
              "      <td>0.834</td>\n",
              "      <td>0.845</td>\n",
              "      <td>0.637000</td>\n",
              "      <td>0.107</td>\n",
              "      <td>-6.703</td>\n",
              "      <td>0.0636</td>\n",
              "      <td>126.031</td>\n",
              "      <td>0.451</td>\n",
              "      <td>37</td>\n",
              "    </tr>\n",
              "    <tr>\n",
              "      <th>3</th>\n",
              "      <td>16</td>\n",
              "      <td>Young Miko: Bzrp Music Sessions, Vol. 58</td>\n",
              "      <td>1</td>\n",
              "      <td>6VciS3dRMpZhJiDxT8ArFi</td>\n",
              "      <td>Young Miko: Bzrp Music Sessions, Vol. 58</td>\n",
              "      <td>spotify:track:6VciS3dRMpZhJiDxT8ArFi</td>\n",
              "      <td>0.4940</td>\n",
              "      <td>0.566</td>\n",
              "      <td>0.614</td>\n",
              "      <td>0.000000</td>\n",
              "      <td>0.116</td>\n",
              "      <td>-6.946</td>\n",
              "      <td>0.1440</td>\n",
              "      <td>96.123</td>\n",
              "      <td>0.439</td>\n",
              "      <td>77</td>\n",
              "    </tr>\n",
              "    <tr>\n",
              "      <th>4</th>\n",
              "      <td>22</td>\n",
              "      <td>Milo J: Bzrp Music Sessions, Vol. 57</td>\n",
              "      <td>1</td>\n",
              "      <td>1iLbUmb2b2btyAAcQ68a1p</td>\n",
              "      <td>Milo J: Bzrp Music Sessions, Vol. 57</td>\n",
              "      <td>spotify:track:1iLbUmb2b2btyAAcQ68a1p</td>\n",
              "      <td>0.5580</td>\n",
              "      <td>0.826</td>\n",
              "      <td>0.684</td>\n",
              "      <td>0.000069</td>\n",
              "      <td>0.169</td>\n",
              "      <td>-6.413</td>\n",
              "      <td>0.2230</td>\n",
              "      <td>123.987</td>\n",
              "      <td>0.738</td>\n",
              "      <td>73</td>\n",
              "    </tr>\n",
              "  </tbody>\n",
              "</table>\n",
              "</div>\n",
              "    <div class=\"colab-df-buttons\">\n",
              "\n",
              "  <div class=\"colab-df-container\">\n",
              "    <button class=\"colab-df-convert\" onclick=\"convertToInteractive('df-19d27bfb-910d-474c-a57a-25154093e659')\"\n",
              "            title=\"Convert this dataframe to an interactive table.\"\n",
              "            style=\"display:none;\">\n",
              "\n",
              "  <svg xmlns=\"http://www.w3.org/2000/svg\" height=\"24px\" viewBox=\"0 -960 960 960\">\n",
              "    <path d=\"M120-120v-720h720v720H120Zm60-500h600v-160H180v160Zm220 220h160v-160H400v160Zm0 220h160v-160H400v160ZM180-400h160v-160H180v160Zm440 0h160v-160H620v160ZM180-180h160v-160H180v160Zm440 0h160v-160H620v160Z\"/>\n",
              "  </svg>\n",
              "    </button>\n",
              "\n",
              "  <style>\n",
              "    .colab-df-container {\n",
              "      display:flex;\n",
              "      gap: 12px;\n",
              "    }\n",
              "\n",
              "    .colab-df-convert {\n",
              "      background-color: #E8F0FE;\n",
              "      border: none;\n",
              "      border-radius: 50%;\n",
              "      cursor: pointer;\n",
              "      display: none;\n",
              "      fill: #1967D2;\n",
              "      height: 32px;\n",
              "      padding: 0 0 0 0;\n",
              "      width: 32px;\n",
              "    }\n",
              "\n",
              "    .colab-df-convert:hover {\n",
              "      background-color: #E2EBFA;\n",
              "      box-shadow: 0px 1px 2px rgba(60, 64, 67, 0.3), 0px 1px 3px 1px rgba(60, 64, 67, 0.15);\n",
              "      fill: #174EA6;\n",
              "    }\n",
              "\n",
              "    .colab-df-buttons div {\n",
              "      margin-bottom: 4px;\n",
              "    }\n",
              "\n",
              "    [theme=dark] .colab-df-convert {\n",
              "      background-color: #3B4455;\n",
              "      fill: #D2E3FC;\n",
              "    }\n",
              "\n",
              "    [theme=dark] .colab-df-convert:hover {\n",
              "      background-color: #434B5C;\n",
              "      box-shadow: 0px 1px 3px 1px rgba(0, 0, 0, 0.15);\n",
              "      filter: drop-shadow(0px 1px 2px rgba(0, 0, 0, 0.3));\n",
              "      fill: #FFFFFF;\n",
              "    }\n",
              "  </style>\n",
              "\n",
              "    <script>\n",
              "      const buttonEl =\n",
              "        document.querySelector('#df-19d27bfb-910d-474c-a57a-25154093e659 button.colab-df-convert');\n",
              "      buttonEl.style.display =\n",
              "        google.colab.kernel.accessAllowed ? 'block' : 'none';\n",
              "\n",
              "      async function convertToInteractive(key) {\n",
              "        const element = document.querySelector('#df-19d27bfb-910d-474c-a57a-25154093e659');\n",
              "        const dataTable =\n",
              "          await google.colab.kernel.invokeFunction('convertToInteractive',\n",
              "                                                    [key], {});\n",
              "        if (!dataTable) return;\n",
              "\n",
              "        const docLinkHtml = 'Like what you see? Visit the ' +\n",
              "          '<a target=\"_blank\" href=https://colab.research.google.com/notebooks/data_table.ipynb>data table notebook</a>'\n",
              "          + ' to learn more about interactive tables.';\n",
              "        element.innerHTML = '';\n",
              "        dataTable['output_type'] = 'display_data';\n",
              "        await google.colab.output.renderOutput(dataTable, element);\n",
              "        const docLink = document.createElement('div');\n",
              "        docLink.innerHTML = docLinkHtml;\n",
              "        element.appendChild(docLink);\n",
              "      }\n",
              "    </script>\n",
              "  </div>\n",
              "\n",
              "\n",
              "<div id=\"df-8df0fbbc-fb2c-4073-8d27-5637a1a6acd7\">\n",
              "  <button class=\"colab-df-quickchart\" onclick=\"quickchart('df-8df0fbbc-fb2c-4073-8d27-5637a1a6acd7')\"\n",
              "            title=\"Suggest charts\"\n",
              "            style=\"display:none;\">\n",
              "\n",
              "<svg xmlns=\"http://www.w3.org/2000/svg\" height=\"24px\"viewBox=\"0 0 24 24\"\n",
              "     width=\"24px\">\n",
              "    <g>\n",
              "        <path d=\"M19 3H5c-1.1 0-2 .9-2 2v14c0 1.1.9 2 2 2h14c1.1 0 2-.9 2-2V5c0-1.1-.9-2-2-2zM9 17H7v-7h2v7zm4 0h-2V7h2v10zm4 0h-2v-4h2v4z\"/>\n",
              "    </g>\n",
              "</svg>\n",
              "  </button>\n",
              "\n",
              "<style>\n",
              "  .colab-df-quickchart {\n",
              "      --bg-color: #E8F0FE;\n",
              "      --fill-color: #1967D2;\n",
              "      --hover-bg-color: #E2EBFA;\n",
              "      --hover-fill-color: #174EA6;\n",
              "      --disabled-fill-color: #AAA;\n",
              "      --disabled-bg-color: #DDD;\n",
              "  }\n",
              "\n",
              "  [theme=dark] .colab-df-quickchart {\n",
              "      --bg-color: #3B4455;\n",
              "      --fill-color: #D2E3FC;\n",
              "      --hover-bg-color: #434B5C;\n",
              "      --hover-fill-color: #FFFFFF;\n",
              "      --disabled-bg-color: #3B4455;\n",
              "      --disabled-fill-color: #666;\n",
              "  }\n",
              "\n",
              "  .colab-df-quickchart {\n",
              "    background-color: var(--bg-color);\n",
              "    border: none;\n",
              "    border-radius: 50%;\n",
              "    cursor: pointer;\n",
              "    display: none;\n",
              "    fill: var(--fill-color);\n",
              "    height: 32px;\n",
              "    padding: 0;\n",
              "    width: 32px;\n",
              "  }\n",
              "\n",
              "  .colab-df-quickchart:hover {\n",
              "    background-color: var(--hover-bg-color);\n",
              "    box-shadow: 0 1px 2px rgba(60, 64, 67, 0.3), 0 1px 3px 1px rgba(60, 64, 67, 0.15);\n",
              "    fill: var(--button-hover-fill-color);\n",
              "  }\n",
              "\n",
              "  .colab-df-quickchart-complete:disabled,\n",
              "  .colab-df-quickchart-complete:disabled:hover {\n",
              "    background-color: var(--disabled-bg-color);\n",
              "    fill: var(--disabled-fill-color);\n",
              "    box-shadow: none;\n",
              "  }\n",
              "\n",
              "  .colab-df-spinner {\n",
              "    border: 2px solid var(--fill-color);\n",
              "    border-color: transparent;\n",
              "    border-bottom-color: var(--fill-color);\n",
              "    animation:\n",
              "      spin 1s steps(1) infinite;\n",
              "  }\n",
              "\n",
              "  @keyframes spin {\n",
              "    0% {\n",
              "      border-color: transparent;\n",
              "      border-bottom-color: var(--fill-color);\n",
              "      border-left-color: var(--fill-color);\n",
              "    }\n",
              "    20% {\n",
              "      border-color: transparent;\n",
              "      border-left-color: var(--fill-color);\n",
              "      border-top-color: var(--fill-color);\n",
              "    }\n",
              "    30% {\n",
              "      border-color: transparent;\n",
              "      border-left-color: var(--fill-color);\n",
              "      border-top-color: var(--fill-color);\n",
              "      border-right-color: var(--fill-color);\n",
              "    }\n",
              "    40% {\n",
              "      border-color: transparent;\n",
              "      border-right-color: var(--fill-color);\n",
              "      border-top-color: var(--fill-color);\n",
              "    }\n",
              "    60% {\n",
              "      border-color: transparent;\n",
              "      border-right-color: var(--fill-color);\n",
              "    }\n",
              "    80% {\n",
              "      border-color: transparent;\n",
              "      border-right-color: var(--fill-color);\n",
              "      border-bottom-color: var(--fill-color);\n",
              "    }\n",
              "    90% {\n",
              "      border-color: transparent;\n",
              "      border-bottom-color: var(--fill-color);\n",
              "    }\n",
              "  }\n",
              "</style>\n",
              "\n",
              "  <script>\n",
              "    async function quickchart(key) {\n",
              "      const quickchartButtonEl =\n",
              "        document.querySelector('#' + key + ' button');\n",
              "      quickchartButtonEl.disabled = true;  // To prevent multiple clicks.\n",
              "      quickchartButtonEl.classList.add('colab-df-spinner');\n",
              "      try {\n",
              "        const charts = await google.colab.kernel.invokeFunction(\n",
              "            'suggestCharts', [key], {});\n",
              "      } catch (error) {\n",
              "        console.error('Error during call to suggestCharts:', error);\n",
              "      }\n",
              "      quickchartButtonEl.classList.remove('colab-df-spinner');\n",
              "      quickchartButtonEl.classList.add('colab-df-quickchart-complete');\n",
              "    }\n",
              "    (() => {\n",
              "      let quickchartButtonEl =\n",
              "        document.querySelector('#df-8df0fbbc-fb2c-4073-8d27-5637a1a6acd7 button');\n",
              "      quickchartButtonEl.style.display =\n",
              "        google.colab.kernel.accessAllowed ? 'block' : 'none';\n",
              "    })();\n",
              "  </script>\n",
              "</div>\n",
              "\n",
              "    </div>\n",
              "  </div>\n"
            ],
            "application/vnd.google.colaboratory.intrinsic+json": {
              "type": "dataframe",
              "variable_name": "bzrp",
              "summary": "{\n  \"name\": \"bzrp\",\n  \"rows\": 29,\n  \"fields\": [\n    {\n      \"column\": \"Unnamed: 0\",\n      \"properties\": {\n        \"dtype\": \"number\",\n        \"std\": 15,\n        \"min\": 3,\n        \"max\": 60,\n        \"num_unique_values\": 29,\n        \"samples\": [\n          59,\n          42,\n          35\n        ],\n        \"semantic_type\": \"\",\n        \"description\": \"\"\n      }\n    },\n    {\n      \"column\": \"album\",\n      \"properties\": {\n        \"dtype\": \"string\",\n        \"num_unique_values\": 29,\n        \"samples\": [\n          \"Seven Kayne: Bzrp Music Sessions, Vol. 33\",\n          \"Anuel AA: Bzrp Music Sessions, Vol. 46\",\n          \"Paulo Londra: Bzrp Music Sessions, Vol. 23\"\n        ],\n        \"semantic_type\": \"\",\n        \"description\": \"\"\n      }\n    },\n    {\n      \"column\": \"track_number\",\n      \"properties\": {\n        \"dtype\": \"number\",\n        \"std\": 0,\n        \"min\": 1,\n        \"max\": 1,\n        \"num_unique_values\": 1,\n        \"samples\": [\n          1\n        ],\n        \"semantic_type\": \"\",\n        \"description\": \"\"\n      }\n    },\n    {\n      \"column\": \"id\",\n      \"properties\": {\n        \"dtype\": \"string\",\n        \"num_unique_values\": 29,\n        \"samples\": [\n          \"5PmK5pRspJq5ki30zgyv7G\"\n        ],\n        \"semantic_type\": \"\",\n        \"description\": \"\"\n      }\n    },\n    {\n      \"column\": \"name\",\n      \"properties\": {\n        \"dtype\": \"string\",\n        \"num_unique_values\": 29,\n        \"samples\": [\n          \"Seven Kayne: Bzrp Music Sessions, Vol. 33\"\n        ],\n        \"semantic_type\": \"\",\n        \"description\": \"\"\n      }\n    },\n    {\n      \"column\": \"uri\",\n      \"properties\": {\n        \"dtype\": \"string\",\n        \"num_unique_values\": 29,\n        \"samples\": [\n          \"spotify:track:5PmK5pRspJq5ki30zgyv7G\"\n        ],\n        \"semantic_type\": \"\",\n        \"description\": \"\"\n      }\n    },\n    {\n      \"column\": \"acousticness\",\n      \"properties\": {\n        \"dtype\": \"number\",\n        \"std\": 0.17775893844486226,\n        \"min\": 0.0125,\n        \"max\": 0.558,\n        \"num_unique_values\": 28,\n        \"samples\": [\n          0.44\n        ],\n        \"semantic_type\": \"\",\n        \"description\": \"\"\n      }\n    },\n    {\n      \"column\": \"danceability\",\n      \"properties\": {\n        \"dtype\": \"number\",\n        \"std\": 0.129281969300467,\n        \"min\": 0.405,\n        \"max\": 0.89,\n        \"num_unique_values\": 28,\n        \"samples\": [\n          0.471\n        ],\n        \"semantic_type\": \"\",\n        \"description\": \"\"\n      }\n    },\n    {\n      \"column\": \"energy\",\n      \"properties\": {\n        \"dtype\": \"number\",\n        \"std\": 0.10707321053276167,\n        \"min\": 0.466,\n        \"max\": 0.91,\n        \"num_unique_values\": 29,\n        \"samples\": [\n          0.719\n        ],\n        \"semantic_type\": \"\",\n        \"description\": \"\"\n      }\n    },\n    {\n      \"column\": \"instrumentalness\",\n      \"properties\": {\n        \"dtype\": \"number\",\n        \"std\": 0.11869156312288363,\n        \"min\": 0.0,\n        \"max\": 0.637,\n        \"num_unique_values\": 13,\n        \"samples\": [\n          9.52e-05\n        ],\n        \"semantic_type\": \"\",\n        \"description\": \"\"\n      }\n    },\n    {\n      \"column\": \"liveness\",\n      \"properties\": {\n        \"dtype\": \"number\",\n        \"std\": 0.11508388833663817,\n        \"min\": 0.0686,\n        \"max\": 0.628,\n        \"num_unique_values\": 27,\n        \"samples\": [\n          0.118\n        ],\n        \"semantic_type\": \"\",\n        \"description\": \"\"\n      }\n    },\n    {\n      \"column\": \"loudness\",\n      \"properties\": {\n        \"dtype\": \"number\",\n        \"std\": 1.6807961226488268,\n        \"min\": -9.092,\n        \"max\": -2.659,\n        \"num_unique_values\": 29,\n        \"samples\": [\n          -5.796\n        ],\n        \"semantic_type\": \"\",\n        \"description\": \"\"\n      }\n    },\n    {\n      \"column\": \"speechiness\",\n      \"properties\": {\n        \"dtype\": \"number\",\n        \"std\": 0.11783376890177137,\n        \"min\": 0.0264,\n        \"max\": 0.405,\n        \"num_unique_values\": 28,\n        \"samples\": [\n          0.089\n        ],\n        \"semantic_type\": \"\",\n        \"description\": \"\"\n      }\n    },\n    {\n      \"column\": \"tempo\",\n      \"properties\": {\n        \"dtype\": \"number\",\n        \"std\": 21.219397209533557,\n        \"min\": 71.378,\n        \"max\": 166.9,\n        \"num_unique_values\": 29,\n        \"samples\": [\n          126.006\n        ],\n        \"semantic_type\": \"\",\n        \"description\": \"\"\n      }\n    },\n    {\n      \"column\": \"valence\",\n      \"properties\": {\n        \"dtype\": \"number\",\n        \"std\": 0.18088507087926042,\n        \"min\": 0.262,\n        \"max\": 0.961,\n        \"num_unique_values\": 28,\n        \"samples\": [\n          0.262\n        ],\n        \"semantic_type\": \"\",\n        \"description\": \"\"\n      }\n    },\n    {\n      \"column\": \"popularity\",\n      \"properties\": {\n        \"dtype\": \"number\",\n        \"std\": 10,\n        \"min\": 37,\n        \"max\": 82,\n        \"num_unique_values\": 22,\n        \"samples\": [\n          51\n        ],\n        \"semantic_type\": \"\",\n        \"description\": \"\"\n      }\n    }\n  ]\n}"
            }
          },
          "metadata": {},
          "execution_count": 4
        }
      ]
    },
    {
      "cell_type": "markdown",
      "source": [
        "1. Cuantas instancias y cuantas variables tiene el dataset?\n",
        "2. De que tipo es cada una de las variables?\n",
        "3. Imprimir los estadisticos descriptivos? Para que variable(s) la lectura del mismo carece de sentido?\n",
        "4. Cual es la canción más popular de las aqui presentes?\n",
        "5. Cual la que tiene el tempo más lento?\n",
        "6. Y el promedio de energia?\n",
        "7. A todo esto: hay alguna instancia duplicada?\n",
        "8. Setear la variable \"id\" cómo indice del dataframe.\n",
        "9. Crear un nuevo dataset llevando sólo las variables de tipo númerica.\n",
        "10. Finalmente, si sólo tuvieses que elegir una variable que explique la popularidad de las canciones de Bzrp: cual es la que mejor parece explicarla (spoiler: correlación)?\n"
      ],
      "metadata": {
        "id": "JivCrRZlCbvo"
      }
    },
    {
      "cell_type": "code",
      "source": [
        "bzrp.info()"
      ],
      "metadata": {
        "id": "7ztvXguxox-3",
        "outputId": "c3c73519-c09f-464f-9e42-151d5ab2102c",
        "colab": {
          "base_uri": "https://localhost:8080/"
        }
      },
      "execution_count": 13,
      "outputs": [
        {
          "output_type": "stream",
          "name": "stdout",
          "text": [
            "<class 'pandas.core.frame.DataFrame'>\n",
            "RangeIndex: 29 entries, 0 to 28\n",
            "Data columns (total 16 columns):\n",
            " #   Column            Non-Null Count  Dtype  \n",
            "---  ------            --------------  -----  \n",
            " 0   Unnamed: 0        29 non-null     int64  \n",
            " 1   album             29 non-null     object \n",
            " 2   track_number      29 non-null     int64  \n",
            " 3   id                29 non-null     object \n",
            " 4   name              29 non-null     object \n",
            " 5   uri               29 non-null     object \n",
            " 6   acousticness      29 non-null     float64\n",
            " 7   danceability      29 non-null     float64\n",
            " 8   energy            29 non-null     float64\n",
            " 9   instrumentalness  29 non-null     float64\n",
            " 10  liveness          29 non-null     float64\n",
            " 11  loudness          29 non-null     float64\n",
            " 12  speechiness       29 non-null     float64\n",
            " 13  tempo             29 non-null     float64\n",
            " 14  valence           29 non-null     float64\n",
            " 15  popularity        29 non-null     int64  \n",
            "dtypes: float64(9), int64(3), object(4)\n",
            "memory usage: 3.8+ KB\n"
          ]
        }
      ]
    },
    {
      "cell_type": "code",
      "source": [
        " bzrp.shape"
      ],
      "metadata": {
        "colab": {
          "base_uri": "https://localhost:8080/"
        },
        "id": "4HazqE9M1t6V",
        "outputId": "3e182dac-1c28-4448-ef4a-5da5d0035e86"
      },
      "execution_count": 5,
      "outputs": [
        {
          "output_type": "execute_result",
          "data": {
            "text/plain": [
              "(29, 16)"
            ]
          },
          "metadata": {},
          "execution_count": 5
        }
      ]
    },
    {
      "cell_type": "code",
      "source": [
        "popular = bzrp['popularity'].copy()"
      ],
      "metadata": {
        "id": "ipR9OKCom9-L"
      },
      "execution_count": 15,
      "outputs": []
    },
    {
      "cell_type": "code",
      "source": [
        "popular.max()"
      ],
      "metadata": {
        "id": "BubI-wWBuVH2",
        "outputId": "9fecadbc-cf44-454b-9c02-6cebc6ff0b9f",
        "colab": {
          "base_uri": "https://localhost:8080/"
        }
      },
      "execution_count": 25,
      "outputs": [
        {
          "output_type": "execute_result",
          "data": {
            "text/plain": [
              "82"
            ]
          },
          "metadata": {},
          "execution_count": 25
        }
      ]
    },
    {
      "cell_type": "code",
      "source": [
        "bzrp.index"
      ],
      "metadata": {
        "colab": {
          "base_uri": "https://localhost:8080/"
        },
        "id": "4Ojf1ZStnTcZ",
        "outputId": "92996a5a-50fc-49cc-943a-6256c0e61d8b"
      },
      "execution_count": 8,
      "outputs": [
        {
          "output_type": "execute_result",
          "data": {
            "text/plain": [
              "RangeIndex(start=0, stop=29, step=1)"
            ]
          },
          "metadata": {},
          "execution_count": 8
        }
      ]
    },
    {
      "cell_type": "code",
      "source": [
        "columnas = list(bzrp.columns)"
      ],
      "metadata": {
        "id": "1Ye50fefp-hy"
      },
      "execution_count": 11,
      "outputs": []
    },
    {
      "cell_type": "code",
      "source": [
        "print(columnas)"
      ],
      "metadata": {
        "id": "y0Z2bPQzoa4g",
        "outputId": "26d484b7-2239-4228-8e67-48c812cb871c",
        "colab": {
          "base_uri": "https://localhost:8080/"
        }
      },
      "execution_count": 12,
      "outputs": [
        {
          "output_type": "stream",
          "name": "stdout",
          "text": [
            "['Unnamed: 0', 'album', 'track_number', 'id', 'name', 'uri', 'acousticness', 'danceability', 'energy', 'instrumentalness', 'liveness', 'loudness', 'speechiness', 'tempo', 'valence', 'popularity']\n"
          ]
        }
      ]
    },
    {
      "cell_type": "code",
      "source": [
        "tempo = bzrp['tempo'].copy()"
      ],
      "metadata": {
        "id": "qEhX1U5ovgT5"
      },
      "execution_count": 26,
      "outputs": []
    },
    {
      "cell_type": "code",
      "source": [
        "tempo.min()"
      ],
      "metadata": {
        "id": "bH6bHnr9vvAC",
        "outputId": "741d71dd-c171-497e-bd97-506915775cd2",
        "colab": {
          "base_uri": "https://localhost:8080/"
        }
      },
      "execution_count": 27,
      "outputs": [
        {
          "output_type": "execute_result",
          "data": {
            "text/plain": [
              "71.378"
            ]
          },
          "metadata": {},
          "execution_count": 27
        }
      ]
    }
  ]
}